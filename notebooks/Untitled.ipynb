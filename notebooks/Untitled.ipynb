{
 "cells": [
  {
   "cell_type": "code",
   "execution_count": 1,
   "id": "41f271ce-a033-466f-a734-bb9c32c9a044",
   "metadata": {},
   "outputs": [
    {
     "name": "stderr",
     "output_type": "stream",
     "text": [
      "2025-04-04 04:40:59.545201: E external/local_xla/xla/stream_executor/cuda/cuda_fft.cc:467] Unable to register cuFFT factory: Attempting to register factory for plugin cuFFT when one has already been registered\n",
      "WARNING: All log messages before absl::InitializeLog() is called are written to STDERR\n",
      "E0000 00:00:1743734459.641191  174133 cuda_dnn.cc:8579] Unable to register cuDNN factory: Attempting to register factory for plugin cuDNN when one has already been registered\n",
      "E0000 00:00:1743734459.668091  174133 cuda_blas.cc:1407] Unable to register cuBLAS factory: Attempting to register factory for plugin cuBLAS when one has already been registered\n",
      "W0000 00:00:1743734459.884240  174133 computation_placer.cc:177] computation placer already registered. Please check linkage and avoid linking the same target more than once.\n",
      "W0000 00:00:1743734459.884277  174133 computation_placer.cc:177] computation placer already registered. Please check linkage and avoid linking the same target more than once.\n",
      "W0000 00:00:1743734459.884280  174133 computation_placer.cc:177] computation placer already registered. Please check linkage and avoid linking the same target more than once.\n",
      "W0000 00:00:1743734459.884283  174133 computation_placer.cc:177] computation placer already registered. Please check linkage and avoid linking the same target more than once.\n",
      "2025-04-04 04:40:59.910427: I tensorflow/core/platform/cpu_feature_guard.cc:210] This TensorFlow binary is optimized to use available CPU instructions in performance-critical operations.\n",
      "To enable the following instructions: AVX2 FMA, in other operations, rebuild TensorFlow with the appropriate compiler flags.\n"
     ]
    },
    {
     "data": {
      "text/plain": [
       "('./../models/local_vits/tokenizer_config.json',\n",
       " './../models/local_vits/special_tokens_map.json',\n",
       " './../models/local_vits/vocab.json',\n",
       " './../models/local_vits/added_tokens.json')"
      ]
     },
     "execution_count": 1,
     "metadata": {},
     "output_type": "execute_result"
    }
   ],
   "source": [
    "# Download model, and save\n",
    "# https://huggingface.co/kakao-enterprise/vits-ljs\n",
    "from transformers import VitsModel, AutoTokenizer\n",
    "import torch\n",
    "\n",
    "models_folder_path = \"./../models\"\n",
    "model_name = \"kakao-enterprise/vits-ljs\"\n",
    "model = VitsModel.from_pretrained(model_name)\n",
    "tokenizer = AutoTokenizer.from_pretrained(model_name)\n",
    "\n",
    "model.save_pretrained(models_folder_path+ \"/local_vits\")\n",
    "tokenizer.save_pretrained(models_folder_path+ \"/local_vits\")"
   ]
  },
  {
   "cell_type": "code",
   "execution_count": null,
   "id": "3d641ca1-bd73-45de-9333-897ebd30a490",
   "metadata": {},
   "outputs": [],
   "source": [
    "from transformers import VitsModel, AutoTokenizer\n",
    "import time\n",
    "\n",
    "start = time.time()\n",
    "text = \"specifies.\"\n",
    "text += \"specifies the required processes implemented in the engineering activities.\"\n",
    "# text += \"specifies the required processes implemented in the engineering activities that result in requirements for systems and software products (including services) throughout the life cycle\"\n",
    "# text += \"provides guidelines for applying the requirements and requirements-related processes described in ISO/IEC/IEEE 15288 and ISO/IEC/IEEE 12207;\"\n",
    "text = text.replace(\"(\", \"\")\n",
    "text = text.replace(\")\", \"\")\n",
    "\n",
    "print(time.time() - start)\n",
    "inputs = tokenizer(text, return_tensors=\"pt\")\n",
    "\n",
    "print(time.time() - start)\n",
    "with torch.no_grad():\n",
    "    output = model(**inputs).waveform\n",
    "\n",
    "print(time.time() - start)\n",
    "\n",
    "Audio(output, rate=model.config.sampling_rate)\n",
    "model = VitsModel.from_pretrained(\"./local_vits\")\n",
    "tokenizer = AutoTokenizer.from_pretrained(\"./local_vits\")"
   ]
  },
  {
   "cell_type": "code",
   "execution_count": null,
   "id": "b01b4b49-bacd-4439-af3b-520b7264b7c0",
   "metadata": {},
   "outputs": [],
   "source": []
  }
 ],
 "metadata": {
  "kernelspec": {
   "display_name": "Python (myenv)",
   "language": "python",
   "name": "myenv"
  },
  "language_info": {
   "codemirror_mode": {
    "name": "ipython",
    "version": 3
   },
   "file_extension": ".py",
   "mimetype": "text/x-python",
   "name": "python",
   "nbconvert_exporter": "python",
   "pygments_lexer": "ipython3",
   "version": "3.10.12"
  }
 },
 "nbformat": 4,
 "nbformat_minor": 5
}
